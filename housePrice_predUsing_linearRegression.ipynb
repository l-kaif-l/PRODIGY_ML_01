{
  "cells": [
    {
      "cell_type": "markdown",
      "id": "humanitarian-letters",
      "metadata": {
        "_cell_guid": "b1076dfc-b9ad-4769-8c92-a6c4dae69d19",
        "_uuid": "8f2839f25d086af736a60e9eeb907d3b93b6e0e5",
        "papermill": {
          "duration": 0.03431,
          "end_time": "2021-06-10T05:37:23.129857",
          "exception": false,
          "start_time": "2021-06-10T05:37:23.095547",
          "status": "completed"
        },
        "tags": [],
        "id": "humanitarian-letters"
      },
      "source": [
        "# Linear Regression Model for Predicting House Prices"
      ]
    },
    {
      "cell_type": "code",
      "source": [
        "from google.colab import drive\n",
        "drive.mount('/content/drive')"
      ],
      "metadata": {
        "colab": {
          "base_uri": "https://localhost:8080/"
        },
        "id": "4C20AREHJXzE",
        "outputId": "570e892f-86d0-4707-e53a-97384bf82bb5"
      },
      "id": "4C20AREHJXzE",
      "execution_count": 1,
      "outputs": [
        {
          "output_type": "stream",
          "name": "stdout",
          "text": [
            "Mounted at /content/drive\n"
          ]
        }
      ]
    },
    {
      "cell_type": "code",
      "execution_count": 2,
      "id": "coordinate-danger",
      "metadata": {
        "execution": {
          "iopub.execute_input": "2021-06-10T05:37:23.270658Z",
          "iopub.status.busy": "2021-06-10T05:37:23.269480Z",
          "iopub.status.idle": "2021-06-10T05:37:24.433923Z",
          "shell.execute_reply": "2021-06-10T05:37:24.433202Z",
          "shell.execute_reply.started": "2021-06-10T05:34:40.093577Z"
        },
        "papermill": {
          "duration": 1.202203,
          "end_time": "2021-06-10T05:37:24.434120",
          "exception": false,
          "start_time": "2021-06-10T05:37:23.231917",
          "status": "completed"
        },
        "tags": [],
        "id": "coordinate-danger"
      },
      "outputs": [],
      "source": [
        "import numpy as np\n",
        "import pandas as pd\n",
        "from math import sqrt\n",
        "from scipy.stats import skew\n",
        "import matplotlib.pyplot as plt\n",
        "from sklearn import linear_model\n",
        "from sklearn import preprocessing\n",
        "from sklearn.model_selection import train_test_split\n",
        "from sklearn.metrics import mean_absolute_error, mean_squared_error"
      ]
    },
    {
      "cell_type": "code",
      "execution_count": 3,
      "id": "personal-specialist",
      "metadata": {
        "execution": {
          "iopub.execute_input": "2021-06-10T05:37:24.506104Z",
          "iopub.status.busy": "2021-06-10T05:37:24.505433Z",
          "iopub.status.idle": "2021-06-10T05:37:24.508567Z",
          "shell.execute_reply": "2021-06-10T05:37:24.508010Z",
          "shell.execute_reply.started": "2021-06-10T05:34:41.193497Z"
        },
        "papermill": {
          "duration": 0.041423,
          "end_time": "2021-06-10T05:37:24.508714",
          "exception": false,
          "start_time": "2021-06-10T05:37:24.467291",
          "status": "completed"
        },
        "tags": [],
        "id": "personal-specialist"
      },
      "outputs": [],
      "source": [
        "plt.style.use(style='fivethirtyeight')\n",
        "plt.rcParams['figure.figsize'] = (10, 6)"
      ]
    },
    {
      "cell_type": "markdown",
      "id": "accredited-external",
      "metadata": {
        "papermill": {
          "duration": 0.032816,
          "end_time": "2021-06-10T05:37:24.574915",
          "exception": false,
          "start_time": "2021-06-10T05:37:24.542099",
          "status": "completed"
        },
        "tags": [],
        "id": "accredited-external"
      },
      "source": [
        "# Exploratory Data Analysis"
      ]
    },
    {
      "cell_type": "markdown",
      "source": [
        "This Dataset consists of roughly 3,000 property listings (observations), each with 79 property attributes, and our target, sale price. The goal is to use EDA, data cleaning, preprocessing and linear model to predict home prices given the features of the home."
      ],
      "metadata": {
        "id": "CFNRBOOpMYyX"
      },
      "id": "CFNRBOOpMYyX"
    },
    {
      "cell_type": "code",
      "execution_count": 4,
      "id": "logical-airplane",
      "metadata": {
        "execution": {
          "iopub.execute_input": "2021-06-10T05:37:24.715027Z",
          "iopub.status.busy": "2021-06-10T05:37:24.714251Z",
          "iopub.status.idle": "2021-06-10T05:37:24.790005Z",
          "shell.execute_reply": "2021-06-10T05:37:24.789364Z",
          "shell.execute_reply.started": "2021-06-10T05:34:41.200353Z"
        },
        "papermill": {
          "duration": 0.114238,
          "end_time": "2021-06-10T05:37:24.790184",
          "exception": false,
          "start_time": "2021-06-10T05:37:24.675946",
          "status": "completed"
        },
        "tags": [],
        "id": "logical-airplane"
      },
      "outputs": [],
      "source": [
        "# load the datasets into dataframe\n",
        "train = pd.read_csv('/content/drive/MyDrive/Prodigy/house-prices-advanced-regression-techniques/train.csv')\n",
        "test = pd.read_csv('/content/drive/MyDrive/Prodigy/house-prices-advanced-regression-techniques/test.csv')"
      ]
    },
    {
      "cell_type": "code",
      "execution_count": 5,
      "id": "excess-action",
      "metadata": {
        "execution": {
          "iopub.execute_input": "2021-06-10T05:37:24.862653Z",
          "iopub.status.busy": "2021-06-10T05:37:24.861616Z",
          "iopub.status.idle": "2021-06-10T05:37:24.910264Z",
          "shell.execute_reply": "2021-06-10T05:37:24.910943Z",
          "shell.execute_reply.started": "2021-06-10T05:34:41.444752Z"
        },
        "papermill": {
          "duration": 0.087109,
          "end_time": "2021-06-10T05:37:24.911145",
          "exception": false,
          "start_time": "2021-06-10T05:37:24.824036",
          "status": "completed"
        },
        "tags": [],
        "colab": {
          "base_uri": "https://localhost:8080/",
          "height": 256
        },
        "id": "excess-action",
        "outputId": "d6d0355f-cbf7-498d-bd09-b5973256e72c"
      },
      "outputs": [
        {
          "output_type": "execute_result",
          "data": {
            "text/plain": [
              "   Id  MSSubClass MSZoning  LotFrontage  LotArea Street Alley LotShape  \\\n",
              "0   1          60       RL         65.0     8450   Pave   NaN      Reg   \n",
              "1   2          20       RL         80.0     9600   Pave   NaN      Reg   \n",
              "2   3          60       RL         68.0    11250   Pave   NaN      IR1   \n",
              "3   4          70       RL         60.0     9550   Pave   NaN      IR1   \n",
              "4   5          60       RL         84.0    14260   Pave   NaN      IR1   \n",
              "\n",
              "  LandContour Utilities  ... PoolArea PoolQC Fence MiscFeature MiscVal MoSold  \\\n",
              "0         Lvl    AllPub  ...        0    NaN   NaN         NaN       0      2   \n",
              "1         Lvl    AllPub  ...        0    NaN   NaN         NaN       0      5   \n",
              "2         Lvl    AllPub  ...        0    NaN   NaN         NaN       0      9   \n",
              "3         Lvl    AllPub  ...        0    NaN   NaN         NaN       0      2   \n",
              "4         Lvl    AllPub  ...        0    NaN   NaN         NaN       0     12   \n",
              "\n",
              "  YrSold  SaleType  SaleCondition  SalePrice  \n",
              "0   2008        WD         Normal     208500  \n",
              "1   2007        WD         Normal     181500  \n",
              "2   2008        WD         Normal     223500  \n",
              "3   2006        WD        Abnorml     140000  \n",
              "4   2008        WD         Normal     250000  \n",
              "\n",
              "[5 rows x 81 columns]"
            ],
            "text/html": [
              "\n",
              "  <div id=\"df-f4ab53d2-6037-4449-836e-5bd55334bc94\" class=\"colab-df-container\">\n",
              "    <div>\n",
              "<style scoped>\n",
              "    .dataframe tbody tr th:only-of-type {\n",
              "        vertical-align: middle;\n",
              "    }\n",
              "\n",
              "    .dataframe tbody tr th {\n",
              "        vertical-align: top;\n",
              "    }\n",
              "\n",
              "    .dataframe thead th {\n",
              "        text-align: right;\n",
              "    }\n",
              "</style>\n",
              "<table border=\"1\" class=\"dataframe\">\n",
              "  <thead>\n",
              "    <tr style=\"text-align: right;\">\n",
              "      <th></th>\n",
              "      <th>Id</th>\n",
              "      <th>MSSubClass</th>\n",
              "      <th>MSZoning</th>\n",
              "      <th>LotFrontage</th>\n",
              "      <th>LotArea</th>\n",
              "      <th>Street</th>\n",
              "      <th>Alley</th>\n",
              "      <th>LotShape</th>\n",
              "      <th>LandContour</th>\n",
              "      <th>Utilities</th>\n",
              "      <th>...</th>\n",
              "      <th>PoolArea</th>\n",
              "      <th>PoolQC</th>\n",
              "      <th>Fence</th>\n",
              "      <th>MiscFeature</th>\n",
              "      <th>MiscVal</th>\n",
              "      <th>MoSold</th>\n",
              "      <th>YrSold</th>\n",
              "      <th>SaleType</th>\n",
              "      <th>SaleCondition</th>\n",
              "      <th>SalePrice</th>\n",
              "    </tr>\n",
              "  </thead>\n",
              "  <tbody>\n",
              "    <tr>\n",
              "      <th>0</th>\n",
              "      <td>1</td>\n",
              "      <td>60</td>\n",
              "      <td>RL</td>\n",
              "      <td>65.0</td>\n",
              "      <td>8450</td>\n",
              "      <td>Pave</td>\n",
              "      <td>NaN</td>\n",
              "      <td>Reg</td>\n",
              "      <td>Lvl</td>\n",
              "      <td>AllPub</td>\n",
              "      <td>...</td>\n",
              "      <td>0</td>\n",
              "      <td>NaN</td>\n",
              "      <td>NaN</td>\n",
              "      <td>NaN</td>\n",
              "      <td>0</td>\n",
              "      <td>2</td>\n",
              "      <td>2008</td>\n",
              "      <td>WD</td>\n",
              "      <td>Normal</td>\n",
              "      <td>208500</td>\n",
              "    </tr>\n",
              "    <tr>\n",
              "      <th>1</th>\n",
              "      <td>2</td>\n",
              "      <td>20</td>\n",
              "      <td>RL</td>\n",
              "      <td>80.0</td>\n",
              "      <td>9600</td>\n",
              "      <td>Pave</td>\n",
              "      <td>NaN</td>\n",
              "      <td>Reg</td>\n",
              "      <td>Lvl</td>\n",
              "      <td>AllPub</td>\n",
              "      <td>...</td>\n",
              "      <td>0</td>\n",
              "      <td>NaN</td>\n",
              "      <td>NaN</td>\n",
              "      <td>NaN</td>\n",
              "      <td>0</td>\n",
              "      <td>5</td>\n",
              "      <td>2007</td>\n",
              "      <td>WD</td>\n",
              "      <td>Normal</td>\n",
              "      <td>181500</td>\n",
              "    </tr>\n",
              "    <tr>\n",
              "      <th>2</th>\n",
              "      <td>3</td>\n",
              "      <td>60</td>\n",
              "      <td>RL</td>\n",
              "      <td>68.0</td>\n",
              "      <td>11250</td>\n",
              "      <td>Pave</td>\n",
              "      <td>NaN</td>\n",
              "      <td>IR1</td>\n",
              "      <td>Lvl</td>\n",
              "      <td>AllPub</td>\n",
              "      <td>...</td>\n",
              "      <td>0</td>\n",
              "      <td>NaN</td>\n",
              "      <td>NaN</td>\n",
              "      <td>NaN</td>\n",
              "      <td>0</td>\n",
              "      <td>9</td>\n",
              "      <td>2008</td>\n",
              "      <td>WD</td>\n",
              "      <td>Normal</td>\n",
              "      <td>223500</td>\n",
              "    </tr>\n",
              "    <tr>\n",
              "      <th>3</th>\n",
              "      <td>4</td>\n",
              "      <td>70</td>\n",
              "      <td>RL</td>\n",
              "      <td>60.0</td>\n",
              "      <td>9550</td>\n",
              "      <td>Pave</td>\n",
              "      <td>NaN</td>\n",
              "      <td>IR1</td>\n",
              "      <td>Lvl</td>\n",
              "      <td>AllPub</td>\n",
              "      <td>...</td>\n",
              "      <td>0</td>\n",
              "      <td>NaN</td>\n",
              "      <td>NaN</td>\n",
              "      <td>NaN</td>\n",
              "      <td>0</td>\n",
              "      <td>2</td>\n",
              "      <td>2006</td>\n",
              "      <td>WD</td>\n",
              "      <td>Abnorml</td>\n",
              "      <td>140000</td>\n",
              "    </tr>\n",
              "    <tr>\n",
              "      <th>4</th>\n",
              "      <td>5</td>\n",
              "      <td>60</td>\n",
              "      <td>RL</td>\n",
              "      <td>84.0</td>\n",
              "      <td>14260</td>\n",
              "      <td>Pave</td>\n",
              "      <td>NaN</td>\n",
              "      <td>IR1</td>\n",
              "      <td>Lvl</td>\n",
              "      <td>AllPub</td>\n",
              "      <td>...</td>\n",
              "      <td>0</td>\n",
              "      <td>NaN</td>\n",
              "      <td>NaN</td>\n",
              "      <td>NaN</td>\n",
              "      <td>0</td>\n",
              "      <td>12</td>\n",
              "      <td>2008</td>\n",
              "      <td>WD</td>\n",
              "      <td>Normal</td>\n",
              "      <td>250000</td>\n",
              "    </tr>\n",
              "  </tbody>\n",
              "</table>\n",
              "<p>5 rows × 81 columns</p>\n",
              "</div>\n",
              "    <div class=\"colab-df-buttons\">\n",
              "\n",
              "  <div class=\"colab-df-container\">\n",
              "    <button class=\"colab-df-convert\" onclick=\"convertToInteractive('df-f4ab53d2-6037-4449-836e-5bd55334bc94')\"\n",
              "            title=\"Convert this dataframe to an interactive table.\"\n",
              "            style=\"display:none;\">\n",
              "\n",
              "  <svg xmlns=\"http://www.w3.org/2000/svg\" height=\"24px\" viewBox=\"0 -960 960 960\">\n",
              "    <path d=\"M120-120v-720h720v720H120Zm60-500h600v-160H180v160Zm220 220h160v-160H400v160Zm0 220h160v-160H400v160ZM180-400h160v-160H180v160Zm440 0h160v-160H620v160ZM180-180h160v-160H180v160Zm440 0h160v-160H620v160Z\"/>\n",
              "  </svg>\n",
              "    </button>\n",
              "\n",
              "  <style>\n",
              "    .colab-df-container {\n",
              "      display:flex;\n",
              "      gap: 12px;\n",
              "    }\n",
              "\n",
              "    .colab-df-convert {\n",
              "      background-color: #E8F0FE;\n",
              "      border: none;\n",
              "      border-radius: 50%;\n",
              "      cursor: pointer;\n",
              "      display: none;\n",
              "      fill: #1967D2;\n",
              "      height: 32px;\n",
              "      padding: 0 0 0 0;\n",
              "      width: 32px;\n",
              "    }\n",
              "\n",
              "    .colab-df-convert:hover {\n",
              "      background-color: #E2EBFA;\n",
              "      box-shadow: 0px 1px 2px rgba(60, 64, 67, 0.3), 0px 1px 3px 1px rgba(60, 64, 67, 0.15);\n",
              "      fill: #174EA6;\n",
              "    }\n",
              "\n",
              "    .colab-df-buttons div {\n",
              "      margin-bottom: 4px;\n",
              "    }\n",
              "\n",
              "    [theme=dark] .colab-df-convert {\n",
              "      background-color: #3B4455;\n",
              "      fill: #D2E3FC;\n",
              "    }\n",
              "\n",
              "    [theme=dark] .colab-df-convert:hover {\n",
              "      background-color: #434B5C;\n",
              "      box-shadow: 0px 1px 3px 1px rgba(0, 0, 0, 0.15);\n",
              "      filter: drop-shadow(0px 1px 2px rgba(0, 0, 0, 0.3));\n",
              "      fill: #FFFFFF;\n",
              "    }\n",
              "  </style>\n",
              "\n",
              "    <script>\n",
              "      const buttonEl =\n",
              "        document.querySelector('#df-f4ab53d2-6037-4449-836e-5bd55334bc94 button.colab-df-convert');\n",
              "      buttonEl.style.display =\n",
              "        google.colab.kernel.accessAllowed ? 'block' : 'none';\n",
              "\n",
              "      async function convertToInteractive(key) {\n",
              "        const element = document.querySelector('#df-f4ab53d2-6037-4449-836e-5bd55334bc94');\n",
              "        const dataTable =\n",
              "          await google.colab.kernel.invokeFunction('convertToInteractive',\n",
              "                                                    [key], {});\n",
              "        if (!dataTable) return;\n",
              "\n",
              "        const docLinkHtml = 'Like what you see? Visit the ' +\n",
              "          '<a target=\"_blank\" href=https://colab.research.google.com/notebooks/data_table.ipynb>data table notebook</a>'\n",
              "          + ' to learn more about interactive tables.';\n",
              "        element.innerHTML = '';\n",
              "        dataTable['output_type'] = 'display_data';\n",
              "        await google.colab.output.renderOutput(dataTable, element);\n",
              "        const docLink = document.createElement('div');\n",
              "        docLink.innerHTML = docLinkHtml;\n",
              "        element.appendChild(docLink);\n",
              "      }\n",
              "    </script>\n",
              "  </div>\n",
              "\n",
              "\n",
              "<div id=\"df-77571aaf-ab77-45c2-8988-1500e9649464\">\n",
              "  <button class=\"colab-df-quickchart\" onclick=\"quickchart('df-77571aaf-ab77-45c2-8988-1500e9649464')\"\n",
              "            title=\"Suggest charts\"\n",
              "            style=\"display:none;\">\n",
              "\n",
              "<svg xmlns=\"http://www.w3.org/2000/svg\" height=\"24px\"viewBox=\"0 0 24 24\"\n",
              "     width=\"24px\">\n",
              "    <g>\n",
              "        <path d=\"M19 3H5c-1.1 0-2 .9-2 2v14c0 1.1.9 2 2 2h14c1.1 0 2-.9 2-2V5c0-1.1-.9-2-2-2zM9 17H7v-7h2v7zm4 0h-2V7h2v10zm4 0h-2v-4h2v4z\"/>\n",
              "    </g>\n",
              "</svg>\n",
              "  </button>\n",
              "\n",
              "<style>\n",
              "  .colab-df-quickchart {\n",
              "      --bg-color: #E8F0FE;\n",
              "      --fill-color: #1967D2;\n",
              "      --hover-bg-color: #E2EBFA;\n",
              "      --hover-fill-color: #174EA6;\n",
              "      --disabled-fill-color: #AAA;\n",
              "      --disabled-bg-color: #DDD;\n",
              "  }\n",
              "\n",
              "  [theme=dark] .colab-df-quickchart {\n",
              "      --bg-color: #3B4455;\n",
              "      --fill-color: #D2E3FC;\n",
              "      --hover-bg-color: #434B5C;\n",
              "      --hover-fill-color: #FFFFFF;\n",
              "      --disabled-bg-color: #3B4455;\n",
              "      --disabled-fill-color: #666;\n",
              "  }\n",
              "\n",
              "  .colab-df-quickchart {\n",
              "    background-color: var(--bg-color);\n",
              "    border: none;\n",
              "    border-radius: 50%;\n",
              "    cursor: pointer;\n",
              "    display: none;\n",
              "    fill: var(--fill-color);\n",
              "    height: 32px;\n",
              "    padding: 0;\n",
              "    width: 32px;\n",
              "  }\n",
              "\n",
              "  .colab-df-quickchart:hover {\n",
              "    background-color: var(--hover-bg-color);\n",
              "    box-shadow: 0 1px 2px rgba(60, 64, 67, 0.3), 0 1px 3px 1px rgba(60, 64, 67, 0.15);\n",
              "    fill: var(--button-hover-fill-color);\n",
              "  }\n",
              "\n",
              "  .colab-df-quickchart-complete:disabled,\n",
              "  .colab-df-quickchart-complete:disabled:hover {\n",
              "    background-color: var(--disabled-bg-color);\n",
              "    fill: var(--disabled-fill-color);\n",
              "    box-shadow: none;\n",
              "  }\n",
              "\n",
              "  .colab-df-spinner {\n",
              "    border: 2px solid var(--fill-color);\n",
              "    border-color: transparent;\n",
              "    border-bottom-color: var(--fill-color);\n",
              "    animation:\n",
              "      spin 1s steps(1) infinite;\n",
              "  }\n",
              "\n",
              "  @keyframes spin {\n",
              "    0% {\n",
              "      border-color: transparent;\n",
              "      border-bottom-color: var(--fill-color);\n",
              "      border-left-color: var(--fill-color);\n",
              "    }\n",
              "    20% {\n",
              "      border-color: transparent;\n",
              "      border-left-color: var(--fill-color);\n",
              "      border-top-color: var(--fill-color);\n",
              "    }\n",
              "    30% {\n",
              "      border-color: transparent;\n",
              "      border-left-color: var(--fill-color);\n",
              "      border-top-color: var(--fill-color);\n",
              "      border-right-color: var(--fill-color);\n",
              "    }\n",
              "    40% {\n",
              "      border-color: transparent;\n",
              "      border-right-color: var(--fill-color);\n",
              "      border-top-color: var(--fill-color);\n",
              "    }\n",
              "    60% {\n",
              "      border-color: transparent;\n",
              "      border-right-color: var(--fill-color);\n",
              "    }\n",
              "    80% {\n",
              "      border-color: transparent;\n",
              "      border-right-color: var(--fill-color);\n",
              "      border-bottom-color: var(--fill-color);\n",
              "    }\n",
              "    90% {\n",
              "      border-color: transparent;\n",
              "      border-bottom-color: var(--fill-color);\n",
              "    }\n",
              "  }\n",
              "</style>\n",
              "\n",
              "  <script>\n",
              "    async function quickchart(key) {\n",
              "      const quickchartButtonEl =\n",
              "        document.querySelector('#' + key + ' button');\n",
              "      quickchartButtonEl.disabled = true;  // To prevent multiple clicks.\n",
              "      quickchartButtonEl.classList.add('colab-df-spinner');\n",
              "      try {\n",
              "        const charts = await google.colab.kernel.invokeFunction(\n",
              "            'suggestCharts', [key], {});\n",
              "      } catch (error) {\n",
              "        console.error('Error during call to suggestCharts:', error);\n",
              "      }\n",
              "      quickchartButtonEl.classList.remove('colab-df-spinner');\n",
              "      quickchartButtonEl.classList.add('colab-df-quickchart-complete');\n",
              "    }\n",
              "    (() => {\n",
              "      let quickchartButtonEl =\n",
              "        document.querySelector('#df-77571aaf-ab77-45c2-8988-1500e9649464 button');\n",
              "      quickchartButtonEl.style.display =\n",
              "        google.colab.kernel.accessAllowed ? 'block' : 'none';\n",
              "    })();\n",
              "  </script>\n",
              "</div>\n",
              "\n",
              "    </div>\n",
              "  </div>\n"
            ],
            "application/vnd.google.colaboratory.intrinsic+json": {
              "type": "dataframe",
              "variable_name": "train"
            }
          },
          "metadata": {},
          "execution_count": 5
        }
      ],
      "source": [
        "# show the first few records of train set\n",
        "train.head()"
      ]
    },
    {
      "cell_type": "code",
      "execution_count": 6,
      "id": "dedicated-tulsa",
      "metadata": {
        "execution": {
          "iopub.execute_input": "2021-06-10T05:37:24.985271Z",
          "iopub.status.busy": "2021-06-10T05:37:24.984254Z",
          "iopub.status.idle": "2021-06-10T05:37:24.995363Z",
          "shell.execute_reply": "2021-06-10T05:37:24.994380Z",
          "shell.execute_reply.started": "2021-06-10T05:34:41.969089Z"
        },
        "papermill": {
          "duration": 0.049388,
          "end_time": "2021-06-10T05:37:24.995606",
          "exception": false,
          "start_time": "2021-06-10T05:37:24.946218",
          "status": "completed"
        },
        "tags": [],
        "colab": {
          "base_uri": "https://localhost:8080/"
        },
        "id": "dedicated-tulsa",
        "outputId": "dc951a2c-b85c-4ebf-fc4b-fc807301cd79"
      },
      "outputs": [
        {
          "output_type": "stream",
          "name": "stdout",
          "text": [
            "No. of records in train dataset:  1460\n",
            "No. of columns in train dataset:  81\n",
            "No. of records in test dataset:  1459\n",
            "No. of columns in test dataset:  80\n"
          ]
        }
      ],
      "source": [
        "# check the number of records and columns in both of datasets\n",
        "print('No. of records in train dataset: ', len(train.index))\n",
        "print('No. of columns in train dataset: ', len(train.columns))\n",
        "print('No. of records in test dataset: ', len(test.index))\n",
        "print('No. of columns in test dataset: ', len(test.columns))"
      ]
    },
    {
      "cell_type": "code",
      "execution_count": 7,
      "id": "premier-mineral",
      "metadata": {
        "execution": {
          "iopub.execute_input": "2021-06-10T05:37:25.077367Z",
          "iopub.status.busy": "2021-06-10T05:37:25.076258Z",
          "iopub.status.idle": "2021-06-10T05:37:25.091286Z",
          "shell.execute_reply": "2021-06-10T05:37:25.092016Z",
          "shell.execute_reply.started": "2021-06-10T05:34:42.001756Z"
        },
        "papermill": {
          "duration": 0.06239,
          "end_time": "2021-06-10T05:37:25.092447",
          "exception": false,
          "start_time": "2021-06-10T05:37:25.030057",
          "status": "completed"
        },
        "tags": [],
        "colab": {
          "base_uri": "https://localhost:8080/"
        },
        "id": "premier-mineral",
        "outputId": "e0817310-6c9b-4e54-dd7e-9e829b2b1b3f"
      },
      "outputs": [
        {
          "output_type": "stream",
          "name": "stdout",
          "text": [
            "Total missing values in train set 7829\n",
            "Total missing values in test set 7878\n"
          ]
        }
      ],
      "source": [
        "# check the missing values\n",
        "print ('Total missing values in train set', sum(train.isna().sum()))\n",
        "print ('Total missing values in test set', sum(test.isna().sum()))"
      ]
    },
    {
      "cell_type": "code",
      "execution_count": 8,
      "id": "auburn-fiber",
      "metadata": {
        "execution": {
          "iopub.execute_input": "2021-06-10T05:37:25.168550Z",
          "iopub.status.busy": "2021-06-10T05:37:25.167769Z",
          "iopub.status.idle": "2021-06-10T05:37:25.190548Z",
          "shell.execute_reply": "2021-06-10T05:37:25.191566Z",
          "shell.execute_reply.started": "2021-06-10T05:34:42.317774Z"
        },
        "papermill": {
          "duration": 0.062743,
          "end_time": "2021-06-10T05:37:25.191859",
          "exception": false,
          "start_time": "2021-06-10T05:37:25.129116",
          "status": "completed"
        },
        "tags": [],
        "colab": {
          "base_uri": "https://localhost:8080/"
        },
        "id": "auburn-fiber",
        "outputId": "4fbd4be8-69cb-49ec-a5b3-e0d6354653f0"
      },
      "outputs": [
        {
          "output_type": "stream",
          "name": "stdout",
          "text": [
            "Total missing values in train set 7829\n",
            "Total missing values in test set 7878\n"
          ]
        }
      ],
      "source": [
        "# check the missing values\n",
        "print ('Total missing values in train set', sum(train.isna().sum()))\n",
        "print ('Total missing values in test set', sum(test.isna().sum()))"
      ]
    },
    {
      "cell_type": "code",
      "execution_count": 9,
      "id": "apparent-affect",
      "metadata": {
        "execution": {
          "iopub.execute_input": "2021-06-10T05:37:25.272548Z",
          "iopub.status.busy": "2021-06-10T05:37:25.271744Z",
          "iopub.status.idle": "2021-06-10T05:37:25.280094Z",
          "shell.execute_reply": "2021-06-10T05:37:25.280597Z",
          "shell.execute_reply.started": "2021-06-10T05:34:42.915733Z"
        },
        "papermill": {
          "duration": 0.052269,
          "end_time": "2021-06-10T05:37:25.280780",
          "exception": false,
          "start_time": "2021-06-10T05:37:25.228511",
          "status": "completed"
        },
        "tags": [],
        "colab": {
          "base_uri": "https://localhost:8080/"
        },
        "id": "apparent-affect",
        "outputId": "812b7fea-464c-4ce8-92ea-e4e47f1abe5a"
      },
      "outputs": [
        {
          "output_type": "execute_result",
          "data": {
            "text/plain": [
              "count      1460.000000\n",
              "mean     180921.195890\n",
              "std       79442.502883\n",
              "min       34900.000000\n",
              "25%      129975.000000\n",
              "50%      163000.000000\n",
              "75%      214000.000000\n",
              "max      755000.000000\n",
              "Name: SalePrice, dtype: float64"
            ]
          },
          "metadata": {},
          "execution_count": 9
        }
      ],
      "source": [
        "train['SalePrice'].describe()"
      ]
    },
    {
      "cell_type": "code",
      "execution_count": 10,
      "id": "governing-physiology",
      "metadata": {
        "execution": {
          "iopub.execute_input": "2021-06-10T05:37:25.425414Z",
          "iopub.status.busy": "2021-06-10T05:37:25.424433Z",
          "iopub.status.idle": "2021-06-10T05:37:25.450395Z",
          "shell.execute_reply": "2021-06-10T05:37:25.449448Z",
          "shell.execute_reply.started": "2021-06-10T05:34:43.383363Z"
        },
        "papermill": {
          "duration": 0.064016,
          "end_time": "2021-06-10T05:37:25.450588",
          "exception": false,
          "start_time": "2021-06-10T05:37:25.386572",
          "status": "completed"
        },
        "tags": [],
        "colab": {
          "base_uri": "https://localhost:8080/"
        },
        "id": "governing-physiology",
        "outputId": "900ced8e-5025-4033-868b-8eea642d991d"
      },
      "outputs": [
        {
          "output_type": "stream",
          "name": "stdout",
          "text": [
            "The Most Correlated Features with SalePrice:\n",
            "SalePrice       1.000000\n",
            "OverallQual     0.790982\n",
            "GrLivArea       0.708624\n",
            "GarageCars      0.640409\n",
            "GarageArea      0.623431\n",
            "TotalBsmtSF     0.613581\n",
            "1stFlrSF        0.605852\n",
            "FullBath        0.560664\n",
            "TotRmsAbvGrd    0.533723\n",
            "YearBuilt       0.522897\n",
            "Name: SalePrice, dtype: float64 \n",
            "\n",
            "The Most Uncorrelated Features with SalePrice:\n",
            "YrSold          -0.028923\n",
            "OverallCond     -0.077856\n",
            "MSSubClass      -0.084284\n",
            "EnclosedPorch   -0.128578\n",
            "KitchenAbvGr    -0.135907\n",
            "Name: SalePrice, dtype: float64\n"
          ]
        },
        {
          "output_type": "execute_result",
          "data": {
            "text/plain": [
              "(None, None)"
            ]
          },
          "metadata": {},
          "execution_count": 10
        }
      ],
      "source": [
        "numeric_cols = train.select_dtypes(include = [np.number])\n",
        "corr = numeric_cols.corr()\n",
        "print ('The Most Correlated Features with SalePrice:'), print (corr['SalePrice'].sort_values(ascending = False)[:10], '\\n')\n",
        "print ('The Most Uncorrelated Features with SalePrice:'), print (corr['SalePrice'].sort_values(ascending = False)[-5:])"
      ]
    },
    {
      "cell_type": "code",
      "execution_count": 11,
      "id": "actual-sending",
      "metadata": {
        "execution": {
          "iopub.execute_input": "2021-06-10T05:37:25.598395Z",
          "iopub.status.busy": "2021-06-10T05:37:25.597576Z",
          "iopub.status.idle": "2021-06-10T05:37:25.825506Z",
          "shell.execute_reply": "2021-06-10T05:37:25.826024Z",
          "shell.execute_reply.started": "2021-06-10T05:34:44.042752Z"
        },
        "papermill": {
          "duration": 0.269202,
          "end_time": "2021-06-10T05:37:25.826242",
          "exception": false,
          "start_time": "2021-06-10T05:37:25.557040",
          "status": "completed"
        },
        "tags": [],
        "colab": {
          "base_uri": "https://localhost:8080/",
          "height": 529
        },
        "id": "actual-sending",
        "outputId": "13540228-e884-4d2f-977c-3d37015454ca"
      },
      "outputs": [
        {
          "output_type": "execute_result",
          "data": {
            "text/plain": [
              "Text(0.5, 0, 'GrLivArea (Above grade \"ground\" living area square feet)')"
            ]
          },
          "metadata": {},
          "execution_count": 11
        },
        {
          "output_type": "display_data",
          "data": {
            "text/plain": [
              "<Figure size 1000x600 with 1 Axes>"
            ],
            "image/png": "[encoded data removed]"
          },
          "metadata": {}
        }
      ],
      "source": [
        "plt.scatter(x = train['GrLivArea'], y = train['SalePrice'])\n",
        "plt.ylabel('SalePrice')\n",
        "plt.xlabel('GrLivArea (Above grade \"ground\" living area square feet)')"
      ]
    },
    {
      "cell_type": "markdown",
      "id": "forced-emperor",
      "metadata": {
        "papermill": {
          "duration": 0.038394,
          "end_time": "2021-06-10T05:37:25.903333",
          "exception": false,
          "start_time": "2021-06-10T05:37:25.864939",
          "status": "completed"
        },
        "tags": [],
        "id": "forced-emperor"
      },
      "source": [
        "At first glance, there are increases in living area correspond to increases in price, with few outliers."
      ]
    },
    {
      "cell_type": "code",
      "execution_count": 12,
      "id": "elementary-boxing",
      "metadata": {
        "execution": {
          "iopub.execute_input": "2021-06-10T05:37:25.983012Z",
          "iopub.status.busy": "2021-06-10T05:37:25.982377Z",
          "iopub.status.idle": "2021-06-10T05:37:26.171732Z",
          "shell.execute_reply": "2021-06-10T05:37:26.172277Z",
          "shell.execute_reply.started": "2021-06-10T05:34:44.673869Z"
        },
        "papermill": {
          "duration": 0.231077,
          "end_time": "2021-06-10T05:37:26.172468",
          "exception": false,
          "start_time": "2021-06-10T05:37:25.941391",
          "status": "completed"
        },
        "tags": [],
        "colab": {
          "base_uri": "https://localhost:8080/",
          "height": 529
        },
        "id": "elementary-boxing",
        "outputId": "40f2fdc5-2a72-4c4e-c293-287b8dde2169"
      },
      "outputs": [
        {
          "output_type": "execute_result",
          "data": {
            "text/plain": [
              "Text(0.5, 0, 'GarageArea')"
            ]
          },
          "metadata": {},
          "execution_count": 12
        },
        {
          "output_type": "display_data",
          "data": {
            "text/plain": [
              "<Figure size 1000x600 with 1 Axes>"
            ],
            "image/png": "[encoded data removed]"
          },
          "metadata": {}
        }
      ],
      "source": [
        "plt.scatter(x = train['GarageArea'], y = train['SalePrice'])\n",
        "plt.ylabel('SalePrice')\n",
        "plt.xlabel('GarageArea')"
      ]
    },
    {
      "cell_type": "markdown",
      "id": "sapphire-singles",
      "metadata": {
        "papermill": {
          "duration": 0.039386,
          "end_time": "2021-06-10T05:37:26.251708",
          "exception": false,
          "start_time": "2021-06-10T05:37:26.212322",
          "status": "completed"
        },
        "tags": [],
        "id": "sapphire-singles"
      },
      "source": [
        "So there are many homes with 0 for GarageArea and there are a few outliers as well!"
      ]
    },
    {
      "cell_type": "markdown",
      "id": "paperback-baking",
      "metadata": {
        "papermill": {
          "duration": 0.03918,
          "end_time": "2021-06-10T05:37:26.330324",
          "exception": false,
          "start_time": "2021-06-10T05:37:26.291144",
          "status": "completed"
        },
        "tags": [],
        "id": "paperback-baking"
      },
      "source": [
        "# Data Preprocessing"
      ]
    },
    {
      "cell_type": "code",
      "execution_count": 13,
      "id": "vietnamese-eligibility",
      "metadata": {
        "execution": {
          "iopub.execute_input": "2021-06-10T05:37:26.493871Z",
          "iopub.status.busy": "2021-06-10T05:37:26.492873Z",
          "iopub.status.idle": "2021-06-10T05:37:26.518547Z",
          "shell.execute_reply": "2021-06-10T05:37:26.519010Z",
          "shell.execute_reply.started": "2021-06-10T05:34:46.010045Z"
        },
        "papermill": {
          "duration": 0.069255,
          "end_time": "2021-06-10T05:37:26.519232",
          "exception": false,
          "start_time": "2021-06-10T05:37:26.449977",
          "status": "completed"
        },
        "tags": [],
        "id": "vietnamese-eligibility"
      },
      "outputs": [],
      "source": [
        "# remove GrLivArea outliers\n",
        "train = train[train['GrLivArea'] < 4500]"
      ]
    },
    {
      "cell_type": "code",
      "execution_count": 14,
      "id": "several-brain",
      "metadata": {
        "execution": {
          "iopub.execute_input": "2021-06-10T05:37:26.605394Z",
          "iopub.status.busy": "2021-06-10T05:37:26.604736Z",
          "iopub.status.idle": "2021-06-10T05:37:26.607732Z",
          "shell.execute_reply": "2021-06-10T05:37:26.608293Z",
          "shell.execute_reply.started": "2021-06-10T05:34:46.395490Z"
        },
        "papermill": {
          "duration": 0.04948,
          "end_time": "2021-06-10T05:37:26.608479",
          "exception": false,
          "start_time": "2021-06-10T05:37:26.558999",
          "status": "completed"
        },
        "tags": [],
        "id": "several-brain"
      },
      "outputs": [],
      "source": [
        "# remove GarageArea outliers\n",
        "train = train[train['GarageArea'] < 1200]"
      ]
    },
    {
      "cell_type": "code",
      "execution_count": 15,
      "id": "split-radar",
      "metadata": {
        "execution": {
          "iopub.execute_input": "2021-06-10T05:37:26.690803Z",
          "iopub.status.busy": "2021-06-10T05:37:26.690107Z",
          "iopub.status.idle": "2021-06-10T05:37:26.708500Z",
          "shell.execute_reply": "2021-06-10T05:37:26.707847Z",
          "shell.execute_reply.started": "2021-06-10T05:34:46.795209Z"
        },
        "papermill": {
          "duration": 0.060683,
          "end_time": "2021-06-10T05:37:26.708654",
          "exception": false,
          "start_time": "2021-06-10T05:37:26.647971",
          "status": "completed"
        },
        "tags": [],
        "colab": {
          "base_uri": "https://localhost:8080/"
        },
        "id": "split-radar",
        "outputId": "95e6183b-8ffa-40fe-9085-b3ad45ead73c"
      },
      "outputs": [
        {
          "output_type": "stream",
          "name": "stdout",
          "text": [
            "Alley          0.937414\n",
            "PoolQC         0.995873\n",
            "Fence          0.806740\n",
            "MiscFeature    0.963549\n",
            "dtype: float64\n"
          ]
        }
      ],
      "source": [
        "# drop columns with percentage of missing values > 80%\n",
        "train_percentage = train.isnull().sum() / train.shape[0]\n",
        "print (train_percentage[train_percentage > 0.80])\n",
        "train = train.drop(train_percentage[train_percentage > 0.80].index, axis = 1)"
      ]
    },
    {
      "cell_type": "code",
      "execution_count": 17,
      "id": "marked-initial",
      "metadata": {
        "execution": {
          "iopub.execute_input": "2021-06-10T05:37:26.793367Z",
          "iopub.status.busy": "2021-06-10T05:37:26.792647Z",
          "iopub.status.idle": "2021-06-10T05:37:26.809304Z",
          "shell.execute_reply": "2021-06-10T05:37:26.809785Z",
          "shell.execute_reply.started": "2021-06-10T05:34:47.530043Z"
        },
        "papermill": {
          "duration": 0.060812,
          "end_time": "2021-06-10T05:37:26.809977",
          "exception": false,
          "start_time": "2021-06-10T05:37:26.749165",
          "status": "completed"
        },
        "tags": [],
        "colab": {
          "base_uri": "https://localhost:8080/"
        },
        "id": "marked-initial",
        "outputId": "73c42a77-9ef4-4aa1-b397-3ba083fc8e4e"
      },
      "outputs": [
        {
          "output_type": "stream",
          "name": "stdout",
          "text": [
            "Series([], dtype: float64)\n"
          ]
        }
      ],
      "source": [
        "# do the same with test data\n",
        "test_percentage = test.isnull().sum() / test.shape[0]\n",
        "print (test_percentage[test_percentage > 0.80])\n",
        "test = test.drop(test_percentage[test_percentage > 0.80].index, axis = 1)"
      ]
    },
    {
      "cell_type": "code",
      "execution_count": 18,
      "id": "behind-biotechnology",
      "metadata": {
        "execution": {
          "iopub.execute_input": "2021-06-10T05:37:26.895496Z",
          "iopub.status.busy": "2021-06-10T05:37:26.894787Z",
          "iopub.status.idle": "2021-06-10T05:37:26.952412Z",
          "shell.execute_reply": "2021-06-10T05:37:26.952887Z",
          "shell.execute_reply.started": "2021-06-10T05:34:51.839287Z"
        },
        "papermill": {
          "duration": 0.10283,
          "end_time": "2021-06-10T05:37:26.953100",
          "exception": false,
          "start_time": "2021-06-10T05:37:26.850270",
          "status": "completed"
        },
        "tags": [],
        "id": "behind-biotechnology"
      },
      "outputs": [],
      "source": [
        "# encode categorical variables\n",
        "le = preprocessing.LabelEncoder()\n",
        "for name in train.columns:\n",
        "    if train[name].dtypes == 'O':\n",
        "        train[name] = train[name].astype(str)\n",
        "        le.fit(train[name])\n",
        "        train[name] = le.transform(train[name])"
      ]
    },
    {
      "cell_type": "code",
      "execution_count": 19,
      "id": "popular-leather",
      "metadata": {
        "execution": {
          "iopub.execute_input": "2021-06-10T05:37:27.036577Z",
          "iopub.status.busy": "2021-06-10T05:37:27.035894Z",
          "iopub.status.idle": "2021-06-10T05:37:27.093785Z",
          "shell.execute_reply": "2021-06-10T05:37:27.093168Z",
          "shell.execute_reply.started": "2021-06-10T05:34:52.443482Z"
        },
        "papermill": {
          "duration": 0.100651,
          "end_time": "2021-06-10T05:37:27.093932",
          "exception": false,
          "start_time": "2021-06-10T05:37:26.993281",
          "status": "completed"
        },
        "tags": [],
        "id": "popular-leather"
      },
      "outputs": [],
      "source": [
        "# do the same for testset\n",
        "for name in test.columns:\n",
        "    if test[name].dtypes == 'O':\n",
        "        test[name] = test[name].astype(str)\n",
        "        le.fit(test[name])\n",
        "        test[name] = le.transform(test[name])"
      ]
    },
    {
      "cell_type": "code",
      "execution_count": 20,
      "id": "intended-burner",
      "metadata": {
        "execution": {
          "iopub.execute_input": "2021-06-10T05:37:27.266569Z",
          "iopub.status.busy": "2021-06-10T05:37:27.265327Z",
          "iopub.status.idle": "2021-06-10T05:37:27.942629Z",
          "shell.execute_reply": "2021-06-10T05:37:27.943372Z",
          "shell.execute_reply.started": "2021-06-10T05:34:56.386525Z"
        },
        "papermill": {
          "duration": 0.727106,
          "end_time": "2021-06-10T05:37:27.943605",
          "exception": false,
          "start_time": "2021-06-10T05:37:27.216499",
          "status": "completed"
        },
        "tags": [],
        "id": "intended-burner"
      },
      "outputs": [],
      "source": [
        "# fill missing values based on probability of occurrence\n",
        "for column in train.columns:\n",
        "    null_vals = train.isnull().values\n",
        "    a, b = np.unique(train.values[~null_vals], return_counts = 1)\n",
        "    train.loc[train[column].isna(), column] = np.random.choice(a, train[column].isnull().sum(), p = b / b.sum())"
      ]
    },
    {
      "cell_type": "code",
      "execution_count": 21,
      "id": "comparative-mistake",
      "metadata": {
        "execution": {
          "iopub.execute_input": "2021-06-10T05:37:28.028988Z",
          "iopub.status.busy": "2021-06-10T05:37:28.027961Z",
          "iopub.status.idle": "2021-06-10T05:37:28.086610Z",
          "shell.execute_reply": "2021-06-10T05:37:28.086002Z",
          "shell.execute_reply.started": "2021-06-10T05:34:57.231726Z"
        },
        "papermill": {
          "duration": 0.102976,
          "end_time": "2021-06-10T05:37:28.086755",
          "exception": false,
          "start_time": "2021-06-10T05:37:27.983779",
          "status": "completed"
        },
        "tags": [],
        "id": "comparative-mistake"
      },
      "outputs": [],
      "source": [
        "# apply log transformation to reduce skewness over .75 by taking log(feature + 1)\n",
        "skewed_train = train.apply(lambda x: skew(x.dropna()))\n",
        "skewed_train = skewed_train[skewed_train > .75]\n",
        "train[skewed_train.index] = np.log1p(train[skewed_train.index])"
      ]
    },
    {
      "cell_type": "code",
      "execution_count": 22,
      "id": "reflected-discount",
      "metadata": {
        "execution": {
          "iopub.execute_input": "2021-06-10T05:37:28.175635Z",
          "iopub.status.busy": "2021-06-10T05:37:28.174929Z",
          "iopub.status.idle": "2021-06-10T05:37:28.227059Z",
          "shell.execute_reply": "2021-06-10T05:37:28.227614Z",
          "shell.execute_reply.started": "2021-06-10T05:34:57.779491Z"
        },
        "papermill": {
          "duration": 0.10091,
          "end_time": "2021-06-10T05:37:28.227796",
          "exception": false,
          "start_time": "2021-06-10T05:37:28.126886",
          "status": "completed"
        },
        "tags": [],
        "id": "reflected-discount"
      },
      "outputs": [],
      "source": [
        "# deal with the skewness in the test data\n",
        "skewed_test = test.apply(lambda x: skew(x.dropna()))\n",
        "skewed_test = skewed_test[skewed_test > .75]\n",
        "test[skewed_test.index] = np.log1p(test[skewed_test.index])"
      ]
    },
    {
      "cell_type": "markdown",
      "id": "angry-edwards",
      "metadata": {
        "papermill": {
          "duration": 0.039858,
          "end_time": "2021-06-10T05:37:28.307804",
          "exception": false,
          "start_time": "2021-06-10T05:37:28.267946",
          "status": "completed"
        },
        "tags": [],
        "id": "angry-edwards"
      },
      "source": [
        "# Modelling"
      ]
    },
    {
      "cell_type": "markdown",
      "id": "sized-alloy",
      "metadata": {
        "papermill": {
          "duration": 0.040197,
          "end_time": "2021-06-10T05:37:28.389025",
          "exception": false,
          "start_time": "2021-06-10T05:37:28.348828",
          "status": "completed"
        },
        "tags": [],
        "id": "sized-alloy"
      },
      "source": [
        "Performing a simple linear regression on the dataset to predict house prices."
      ]
    },
    {
      "cell_type": "code",
      "execution_count": 23,
      "id": "incorporated-retreat",
      "metadata": {
        "execution": {
          "iopub.execute_input": "2021-06-10T05:37:28.473771Z",
          "iopub.status.busy": "2021-06-10T05:37:28.473071Z",
          "iopub.status.idle": "2021-06-10T05:37:28.482005Z",
          "shell.execute_reply": "2021-06-10T05:37:28.482563Z",
          "shell.execute_reply.started": "2021-06-10T05:34:59.473221Z"
        },
        "papermill": {
          "duration": 0.053118,
          "end_time": "2021-06-10T05:37:28.482751",
          "exception": false,
          "start_time": "2021-06-10T05:37:28.429633",
          "status": "completed"
        },
        "tags": [],
        "id": "incorporated-retreat"
      },
      "outputs": [],
      "source": [
        "X = train.drop(['SalePrice', 'Id'], axis = 1)\n",
        "y = train['SalePrice']\n",
        "X_train, X_test, y_train, y_test = train_test_split(X, y, test_size = 0.2, random_state = 42)"
      ]
    },
    {
      "cell_type": "code",
      "execution_count": 24,
      "id": "regulation-manner",
      "metadata": {
        "execution": {
          "iopub.execute_input": "2021-06-10T05:37:28.648278Z",
          "iopub.status.busy": "2021-06-10T05:37:28.647131Z",
          "iopub.status.idle": "2021-06-10T05:37:28.651024Z",
          "shell.execute_reply": "2021-06-10T05:37:28.651568Z",
          "shell.execute_reply.started": "2021-06-10T05:35:00.031694Z"
        },
        "papermill": {
          "duration": 0.047469,
          "end_time": "2021-06-10T05:37:28.651750",
          "exception": false,
          "start_time": "2021-06-10T05:37:28.604281",
          "status": "completed"
        },
        "tags": [],
        "id": "regulation-manner"
      },
      "outputs": [],
      "source": [
        "lr = linear_model.LinearRegression()"
      ]
    },
    {
      "cell_type": "code",
      "execution_count": 25,
      "id": "transsexual-editing",
      "metadata": {
        "execution": {
          "iopub.execute_input": "2021-06-10T05:37:28.817107Z",
          "iopub.status.busy": "2021-06-10T05:37:28.816449Z",
          "iopub.status.idle": "2021-06-10T05:37:28.855435Z",
          "shell.execute_reply": "2021-06-10T05:37:28.856369Z",
          "shell.execute_reply.started": "2021-06-10T05:35:00.869061Z"
        },
        "papermill": {
          "duration": 0.082859,
          "end_time": "2021-06-10T05:37:28.856650",
          "exception": false,
          "start_time": "2021-06-10T05:37:28.773791",
          "status": "completed"
        },
        "tags": [],
        "id": "transsexual-editing"
      },
      "outputs": [],
      "source": [
        "model = lr.fit(X_train, y_train)"
      ]
    },
    {
      "cell_type": "markdown",
      "id": "controversial-spray",
      "metadata": {
        "papermill": {
          "duration": 0.056479,
          "end_time": "2021-06-10T05:37:28.988227",
          "exception": false,
          "start_time": "2021-06-10T05:37:28.931748",
          "status": "completed"
        },
        "tags": [],
        "id": "controversial-spray"
      },
      "source": [
        "R-squared is the measure of how close the data are to the fitted regression line on a convenient 0 – 100% scale."
      ]
    },
    {
      "cell_type": "code",
      "execution_count": 26,
      "id": "hybrid-savage",
      "metadata": {
        "execution": {
          "iopub.execute_input": "2021-06-10T05:37:29.078652Z",
          "iopub.status.busy": "2021-06-10T05:37:29.077566Z",
          "iopub.status.idle": "2021-06-10T05:37:29.082273Z",
          "shell.execute_reply": "2021-06-10T05:37:29.083306Z",
          "shell.execute_reply.started": "2021-06-10T05:35:02.612740Z"
        },
        "papermill": {
          "duration": 0.0547,
          "end_time": "2021-06-10T05:37:29.083585",
          "exception": false,
          "start_time": "2021-06-10T05:37:29.028885",
          "status": "completed"
        },
        "tags": [],
        "id": "hybrid-savage"
      },
      "outputs": [],
      "source": [
        "# make predictions based on model\n",
        "predictions = model.predict(X_test)"
      ]
    },
    {
      "cell_type": "code",
      "execution_count": 27,
      "id": "offensive-syndication",
      "metadata": {
        "execution": {
          "iopub.execute_input": "2021-06-10T05:37:29.302597Z",
          "iopub.status.busy": "2021-06-10T05:37:29.301453Z",
          "iopub.status.idle": "2021-06-10T05:37:29.304931Z",
          "shell.execute_reply": "2021-06-10T05:37:29.305437Z",
          "shell.execute_reply.started": "2021-06-10T05:35:04.355835Z"
        },
        "papermill": {
          "duration": 0.051749,
          "end_time": "2021-06-10T05:37:29.305616",
          "exception": false,
          "start_time": "2021-06-10T05:37:29.253867",
          "status": "completed"
        },
        "tags": [],
        "colab": {
          "base_uri": "https://localhost:8080/"
        },
        "id": "offensive-syndication",
        "outputId": "f1dc3d15-fc32-483b-bb41-89ecae59dfd3"
      },
      "outputs": [
        {
          "output_type": "stream",
          "name": "stdout",
          "text": [
            "MAE is: 0.08606955287137152\n",
            "MSE is: 0.01647647138585119\n",
            "RMSE is: 0.1283607081074703\n"
          ]
        }
      ],
      "source": [
        "print ('MAE is:', mean_absolute_error(y_test, predictions))\n",
        "print ('MSE is:', mean_squared_error(y_test, predictions))\n",
        "print ('RMSE is:', sqrt(mean_squared_error(y_test, predictions)))"
      ]
    },
    {
      "cell_type": "code",
      "execution_count": 28,
      "id": "exclusive-rating",
      "metadata": {
        "execution": {
          "iopub.execute_input": "2021-06-10T05:37:29.391956Z",
          "iopub.status.busy": "2021-06-10T05:37:29.390895Z",
          "iopub.status.idle": "2021-06-10T05:37:29.570243Z",
          "shell.execute_reply": "2021-06-10T05:37:29.571004Z",
          "shell.execute_reply.started": "2021-06-10T05:35:05.996134Z"
        },
        "papermill": {
          "duration": 0.224117,
          "end_time": "2021-06-10T05:37:29.571230",
          "exception": false,
          "start_time": "2021-06-10T05:37:29.347113",
          "status": "completed"
        },
        "tags": [],
        "colab": {
          "base_uri": "https://localhost:8080/",
          "height": 572
        },
        "id": "exclusive-rating",
        "outputId": "f553087a-ac55-41a6-a5cd-08442113070b"
      },
      "outputs": [
        {
          "output_type": "execute_result",
          "data": {
            "text/plain": [
              "Text(0.5, 1.0, 'Linear Regression Model')"
            ]
          },
          "metadata": {},
          "execution_count": 28
        },
        {
          "output_type": "display_data",
          "data": {
            "text/plain": [
              "<Figure size 1000x600 with 1 Axes>"
            ],
            "image/png": "[encoded data removed]"
          },
          "metadata": {}
        }
      ],
      "source": [
        "# alpha helps to show overlapping data\n",
        "plt.scatter(predictions, y_test, alpha = 0.7, color = 'b')\n",
        "plt.xlabel('Predicted Price')\n",
        "plt.ylabel('Actual Price')\n",
        "plt.title('Linear Regression Model')"
      ]
    },
    {
      "cell_type": "code",
      "execution_count": 29,
      "id": "dental-serum",
      "metadata": {
        "execution": {
          "iopub.execute_input": "2021-06-10T05:37:29.747819Z",
          "iopub.status.busy": "2021-06-10T05:37:29.747165Z",
          "iopub.status.idle": "2021-06-10T05:37:29.750615Z",
          "shell.execute_reply": "2021-06-10T05:37:29.749945Z",
          "shell.execute_reply.started": "2021-06-03T14:21:08.240163Z"
        },
        "papermill": {
          "duration": 0.052773,
          "end_time": "2021-06-10T05:37:29.750764",
          "exception": false,
          "start_time": "2021-06-10T05:37:29.697991",
          "status": "completed"
        },
        "tags": [],
        "id": "dental-serum"
      },
      "outputs": [],
      "source": [
        "submission = pd.DataFrame()\n",
        "submission['Id'] = test['Id'].astype(int)"
      ]
    },
    {
      "cell_type": "code",
      "execution_count": 30,
      "id": "consistent-leisure",
      "metadata": {
        "execution": {
          "iopub.execute_input": "2021-06-10T05:37:29.843800Z",
          "iopub.status.busy": "2021-06-10T05:37:29.843133Z",
          "iopub.status.idle": "2021-06-10T05:37:29.854643Z",
          "shell.execute_reply": "2021-06-10T05:37:29.854058Z",
          "shell.execute_reply.started": "2021-06-03T14:21:08.595257Z"
        },
        "papermill": {
          "duration": 0.060753,
          "end_time": "2021-06-10T05:37:29.854801",
          "exception": false,
          "start_time": "2021-06-10T05:37:29.794048",
          "status": "completed"
        },
        "tags": [],
        "id": "consistent-leisure"
      },
      "outputs": [],
      "source": [
        "temp = test.select_dtypes(include = [np.number]).drop(['Id'], axis = 1).interpolate()"
      ]
    },
    {
      "cell_type": "code",
      "execution_count": 31,
      "id": "popular-silly",
      "metadata": {
        "execution": {
          "iopub.execute_input": "2021-06-10T05:37:29.949512Z",
          "iopub.status.busy": "2021-06-10T05:37:29.948164Z",
          "iopub.status.idle": "2021-06-10T05:37:29.953565Z",
          "shell.execute_reply": "2021-06-10T05:37:29.954358Z",
          "shell.execute_reply.started": "2021-06-03T14:21:08.970357Z"
        },
        "papermill": {
          "duration": 0.057296,
          "end_time": "2021-06-10T05:37:29.954651",
          "exception": false,
          "start_time": "2021-06-10T05:37:29.897355",
          "status": "completed"
        },
        "tags": [],
        "id": "popular-silly"
      },
      "outputs": [],
      "source": [
        "predictions = model.predict(temp)"
      ]
    },
    {
      "cell_type": "code",
      "execution_count": 32,
      "id": "analyzed-cartridge",
      "metadata": {
        "execution": {
          "iopub.execute_input": "2021-06-10T05:37:30.094484Z",
          "iopub.status.busy": "2021-06-10T05:37:30.093768Z",
          "iopub.status.idle": "2021-06-10T05:37:30.095945Z",
          "shell.execute_reply": "2021-06-10T05:37:30.096461Z",
          "shell.execute_reply.started": "2021-06-03T14:21:09.420199Z"
        },
        "papermill": {
          "duration": 0.064646,
          "end_time": "2021-06-10T05:37:30.096637",
          "exception": false,
          "start_time": "2021-06-10T05:37:30.031991",
          "status": "completed"
        },
        "tags": [],
        "id": "analyzed-cartridge"
      },
      "outputs": [],
      "source": [
        "predictions = np.exp(predictions)\n",
        "submission['SalePrice'] = predictions"
      ]
    },
    {
      "cell_type": "code",
      "execution_count": 33,
      "id": "imported-dining",
      "metadata": {
        "execution": {
          "iopub.execute_input": "2021-06-10T05:37:30.185525Z",
          "iopub.status.busy": "2021-06-10T05:37:30.184852Z",
          "iopub.status.idle": "2021-06-10T05:37:30.198824Z",
          "shell.execute_reply": "2021-06-10T05:37:30.198119Z",
          "shell.execute_reply.started": "2021-06-03T14:21:12.152656Z"
        },
        "papermill": {
          "duration": 0.059587,
          "end_time": "2021-06-10T05:37:30.198973",
          "exception": false,
          "start_time": "2021-06-10T05:37:30.139386",
          "status": "completed"
        },
        "tags": [],
        "id": "imported-dining"
      },
      "outputs": [],
      "source": [
        "submission.to_csv('preds.csv', index = False)"
      ]
    }
  ],
  "metadata": {
    "kernelspec": {
      "display_name": "Python 3",
      "language": "python",
      "name": "python3"
    },
    "language_info": {
      "codemirror_mode": {
        "name": "ipython",
        "version": 3
      },
      "file_extension": ".py",
      "mimetype": "text/x-python",
      "name": "python",
      "nbconvert_exporter": "python",
      "pygments_lexer": "ipython3",
      "version": "3.7.10"
    },
    "papermill": {
      "default_parameters": {},
      "duration": 16.66946,
      "end_time": "2021-06-10T05:37:31.052227",
      "environment_variables": {},
      "exception": null,
      "input_path": "__notebook__.ipynb",
      "output_path": "__notebook__.ipynb",
      "parameters": {},
      "start_time": "2021-06-10T05:37:14.382767",
      "version": "2.3.3"
    },
    "colab": {
      "provenance": []
    }
  },
  "nbformat": 4,
  "nbformat_minor": 5
}
